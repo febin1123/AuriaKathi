{
 "cells": [
  {
   "cell_type": "code",
   "execution_count": 3,
   "metadata": {},
   "outputs": [
    {
     "name": "stdout",
     "output_type": "stream",
     "text": [
      "SDK version: 1.0.17\n"
     ]
    }
   ],
   "source": [
    "import azureml.core\n",
    "# Check core SDK version number\n",
    "print(\"SDK version:\", azureml.core.VERSION)"
   ]
  },
  {
   "cell_type": "code",
   "execution_count": 4,
   "metadata": {},
   "outputs": [
    {
     "name": "stdout",
     "output_type": "stream",
     "text": [
      "Found the config file in: /Users/sleebapaul/AML_MSFT/config2.json\n",
      "Workspace Auria is loaded\n"
     ]
    }
   ],
   "source": [
    "from azureml.core import Workspace, Datastore\n",
    "\n",
    "ws = Workspace.from_config(\"../config2.json\")\n",
    "print(\"Workspace {} is loaded\".format(ws.name))"
   ]
  },
  {
   "cell_type": "code",
   "execution_count": 5,
   "metadata": {},
   "outputs": [
    {
     "name": "stdout",
     "output_type": "stream",
     "text": [
      "workspaceblobstore AzureBlob azureml-blobstore-963d160e-9bdd-40a8-852c-1fc06dfe7c7a auria5226806917\n",
      "workspacefilestore AzureFile azureml-filestore-963d160e-9bdd-40a8-852c-1fc06dfe7c7a auria5226806917\n",
      "videos AzureBlob videos happypathspublic\n",
      "models AzureBlob styletransfer pipelinedata\n",
      "breeds AzureBlob azureml-blobstore-315a742f-5c1f-465a-9486-7fd50bbb0012 danielscstoragebhmgfqha\n",
      "images_datastore AzureBlob sampledata pipelinedata\n"
     ]
    }
   ],
   "source": [
    "datastores = ws.datastores\n",
    "for name, ds in datastores.items():\n",
    "    print(name, ds.datastore_type, ds.container_name, ds.account_name)"
   ]
  },
  {
   "cell_type": "code",
   "execution_count": 6,
   "metadata": {},
   "outputs": [
    {
     "name": "stdout",
     "output_type": "stream",
     "text": [
      "testing6854\n",
      "demo-dogbreeds\n",
      "gpuclusterNCv2\n",
      "gpuclusterNCv3\n",
      "cpucluster\n",
      "v100cluster1\n",
      "gpucluster\n",
      "cpu-cluster\n",
      "gpu-cluster\n"
     ]
    }
   ],
   "source": [
    "cts = ws.compute_targets\n",
    "for ct in cts:\n",
    "    print(ct)"
   ]
  },
  {
   "cell_type": "code",
   "execution_count": 7,
   "metadata": {},
   "outputs": [
    {
     "name": "stdout",
     "output_type": "stream",
     "text": [
      "Found existing compute target: cpucluster\n",
      "Found existing compute target: gpuclusterNCv2\n",
      "Succeeded\n",
      "AmlCompute wait for completion finished\n",
      "Minimum number of nodes requested have been provisioned\n",
      "Created new compute target: gpuclusterNCv3\n"
     ]
    }
   ],
   "source": [
    "from azureml.core.compute import AmlCompute\n",
    "\n",
    "# CPU Cluster\n",
    "cpu_compute_target = \"cpucluster\"\n",
    "\n",
    "try:\n",
    "    cpu_compute = AmlCompute(ws, cpu_compute_target)\n",
    "    print(\"Found existing compute target: {}\".format(cpu_compute.name))\n",
    "except:\n",
    "    provisioning_config = AmlCompute.provisioning_configuration(vm_size = \"STANDARD_D2_V2\",\n",
    "                                                                min_nodes = 1,\n",
    "                                                                max_nodes = 4)\n",
    "    cpu_compute = AmlCompute.create(ws, cpu_compute_target, provisioning_config)\n",
    "    cpu_compute.wait_for_completion(show_output=True, min_node_count=None, timeout_in_minutes=20)\n",
    "    print(\"Created new compute target: {}\".format(cpu_compute.name))\n",
    "\n",
    "# GPU Cluster\n",
    "gpu_compute_target_1 = \"gpuclusterNCv2\"\n",
    "\n",
    "try:\n",
    "    gpu_compute_1 = AmlCompute(ws, gpu_compute_target_1)\n",
    "    print(\"Found existing compute target: {}\".format(gpu_compute_1.name))\n",
    "except:\n",
    "    provisioning_config = AmlCompute.provisioning_configuration(vm_size = \"STANDARD_NC6S_V2\",\n",
    "                                                                min_nodes = 1,\n",
    "                                                                max_nodes = 4)\n",
    "    gpu_compute_1 = AmlCompute.create(ws, gpu_compute_target_1, provisioning_config)\n",
    "    gpu_compute_1.wait_for_completion(show_output=True, min_node_count=None, timeout_in_minutes=20)\n",
    "    print(\"Created new compute target: {}\".format(gpu_compute_1.name))\n",
    "    \n",
    "    \n",
    "gpu_compute_target_2 = \"gpuclusterNCv3\"\n",
    "\n",
    "try:\n",
    "    gpu_compute_2 = AmlCompute(ws, gpu_compute_target_2)\n",
    "    print(\"Found existing compute target: {}\".format(gpu_compute.name))\n",
    "except:\n",
    "    provisioning_config = AmlCompute.provisioning_configuration(vm_size = \"STANDARD_NC6S_V3\",\n",
    "                                                                min_nodes = 1,\n",
    "                                                                max_nodes = 4)\n",
    "    gpu_compute_2 = AmlCompute.create(ws, gpu_compute_target_2, provisioning_config)\n",
    "    gpu_compute_2.wait_for_completion(show_output=True, min_node_count=None, timeout_in_minutes=20)\n",
    "    print(\"Created new compute target: {}\".format(gpu_compute_2.name))"
   ]
  },
  {
   "cell_type": "code",
   "execution_count": 8,
   "metadata": {},
   "outputs": [
    {
     "name": "stdout",
     "output_type": "stream",
     "text": [
      "DataReference object created\n"
     ]
    }
   ],
   "source": [
    "from azureml.data.data_reference import DataReference\n",
    "\n",
    "fs = Datastore.get(ws, datastore_name='workspacefilestore')\n",
    "trainedModel = DataReference(\n",
    "    datastore=fs,\n",
    "    data_reference_name=\"finetunedGPTModel\",\n",
    "    path_on_datastore=\"finetunedGPTModel/run1\")\n",
    "\n",
    "print(\"DataReference object created\")"
   ]
  },
  {
   "cell_type": "code",
   "execution_count": 24,
   "metadata": {},
   "outputs": [
    {
     "name": "stdout",
     "output_type": "stream",
     "text": [
      "genHaikuStep step created\n"
     ]
    }
   ],
   "source": [
    "from azureml.train.estimator import Estimator\n",
    "from azureml.pipeline.core import PipelineData\n",
    "from azureml.pipeline.core.graph import PipelineParameter\n",
    "from azureml.core.runconfig import CondaDependencies, RunConfiguration\n",
    "\n",
    "project_folder = \"../gpt-2-finetuning/\"\n",
    "\n",
    "output_model_location = PipelineData(\"GPT2TrainedModel\", datastore=fs)\n",
    "\n",
    "\n",
    "script_params = {\n",
    "    '--run_name': trainedModel,\n",
    "}\n",
    "\n",
    "genHaikuStep = Estimator(source_directory=project_folder,\n",
    "                         compute_target=gpu_compute_target_1,\n",
    "                         entry_script='generateFromGPT.py',\n",
    "                         script_params=script_params,\n",
    "                         node_count=1,\n",
    "                         process_count_per_node=1,\n",
    "                         pip_packages=[ \"gpt-2-simple\", \"numpy\", \"tensorflow-gpu==1.13.1\"],\n",
    "                         custom_docker_image = \"sleebapaul/cuda_10_0_cudnn_7_conda:ubuntu\",\n",
    "                         use_gpu=True)\n",
    "genHaikuStep._estimator_config.environment.python.user_managed_dependencies=False\n",
    "\n",
    "print(\"genHaikuStep step created\")"
   ]
  },
  {
   "cell_type": "code",
   "execution_count": 25,
   "metadata": {},
   "outputs": [],
   "source": [
    "from azureml.core import Experiment\n",
    "\n",
    "experiment_name = 'GPT2_testing_Experiment'\n",
    "experiment = Experiment(ws, name=experiment_name)"
   ]
  },
  {
   "cell_type": "code",
   "execution_count": 26,
   "metadata": {},
   "outputs": [
    {
     "name": "stdout",
     "output_type": "stream",
     "text": [
      "Pipeline is submitted for execution\n"
     ]
    }
   ],
   "source": [
    "gen_haiku_run = experiment.submit(genHaikuStep)\n",
    "\n",
    "print(\"Pipeline is submitted for execution\")"
   ]
  },
  {
   "cell_type": "code",
   "execution_count": null,
   "metadata": {},
   "outputs": [],
   "source": []
  }
 ],
 "metadata": {
  "kernelspec": {
   "display_name": "Python 3",
   "language": "python",
   "name": "python3"
  },
  "language_info": {
   "codemirror_mode": {
    "name": "ipython",
    "version": 3
   },
   "file_extension": ".py",
   "mimetype": "text/x-python",
   "name": "python",
   "nbconvert_exporter": "python",
   "pygments_lexer": "ipython3",
   "version": "3.7.3"
  }
 },
 "nbformat": 4,
 "nbformat_minor": 2
}
